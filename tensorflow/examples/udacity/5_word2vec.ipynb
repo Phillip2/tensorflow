{
 "cells": [
  {
   "cell_type": "markdown",
   "metadata": {
    "colab_type": "text",
    "id": "D7tqLMoKF6uq"
   },
   "source": [
    "Deep Learning\n",
    "=============\n",
    "\n",
    "Assignment 5\n",
    "------------\n",
    "\n",
    "The goal of this assignment is to train a Word2Vec skip-gram model over [Text8](http://mattmahoney.net/dc/textdata) data."
   ]
  },
  {
   "cell_type": "code",
   "execution_count": 4,
   "metadata": {
    "cellView": "both",
    "colab": {
     "autoexec": {
      "startup": false,
      "wait_interval": 0
     }
    },
    "colab_type": "code",
    "id": "0K1ZyLn04QZf"
   },
   "outputs": [],
   "source": [
    "# These are all the modules we'll be using later. Make sure you can import them\n",
    "# before proceeding further.\n",
    "%matplotlib inline\n",
    "import collections\n",
    "import math\n",
    "import numpy as np\n",
    "import os\n",
    "import random\n",
    "import tensorflow as tf\n",
    "import zipfile\n",
    "from matplotlib import pylab\n",
    "from six.moves import range\n",
    "from six.moves.urllib.request import urlretrieve\n",
    "from sklearn.manifold import TSNE"
   ]
  },
  {
   "cell_type": "markdown",
   "metadata": {
    "colab_type": "text",
    "id": "aCjPJE944bkV"
   },
   "source": [
    "Download the data from the source website if necessary."
   ]
  },
  {
   "cell_type": "code",
   "execution_count": 5,
   "metadata": {
    "cellView": "both",
    "colab": {
     "autoexec": {
      "startup": false,
      "wait_interval": 0
     },
     "output_extras": [
      {
       "item_id": 1
      }
     ]
    },
    "colab_type": "code",
    "executionInfo": {
     "elapsed": 14640,
     "status": "ok",
     "timestamp": 1445964482948,
     "user": {
      "color": "#1FA15D",
      "displayName": "Vincent Vanhoucke",
      "isAnonymous": false,
      "isMe": true,
      "permissionId": "05076109866853157986",
      "photoUrl": "//lh6.googleusercontent.com/-cCJa7dTDcgQ/AAAAAAAAAAI/AAAAAAAACgw/r2EZ_8oYer4/s50-c-k-no/photo.jpg",
      "sessionId": "2f1ffade4c9f20de",
      "userId": "102167687554210253930"
     },
     "user_tz": 420
    },
    "id": "RJ-o3UBUFtCw",
    "outputId": "c4ec222c-80b5-4298-e635-93ca9f79c3b7"
   },
   "outputs": [
    {
     "name": "stdout",
     "output_type": "stream",
     "text": [
      "Found and verified text8.zip\n"
     ]
    }
   ],
   "source": [
    "url = 'http://mattmahoney.net/dc/'\n",
    "\n",
    "def maybe_download(filename, expected_bytes):\n",
    "  \"\"\"Download a file if not present, and make sure it's the right size.\"\"\"\n",
    "  if not os.path.exists(filename):\n",
    "    filename, _ = urlretrieve(url + filename, filename)\n",
    "  statinfo = os.stat(filename)\n",
    "  if statinfo.st_size == expected_bytes:\n",
    "    print('Found and verified %s' % filename)\n",
    "  else:\n",
    "    print(statinfo.st_size)\n",
    "    raise Exception(\n",
    "      'Failed to verify ' + filename + '. Can you get to it with a browser?')\n",
    "  return filename\n",
    "\n",
    "filename = maybe_download('text8.zip', 31344016)"
   ]
  },
  {
   "cell_type": "markdown",
   "metadata": {
    "colab_type": "text",
    "id": "Zqz3XiqI4mZT"
   },
   "source": [
    "Read the data into a string."
   ]
  },
  {
   "cell_type": "code",
   "execution_count": 6,
   "metadata": {
    "cellView": "both",
    "colab": {
     "autoexec": {
      "startup": false,
      "wait_interval": 0
     },
     "output_extras": [
      {
       "item_id": 1
      }
     ]
    },
    "colab_type": "code",
    "executionInfo": {
     "elapsed": 28844,
     "status": "ok",
     "timestamp": 1445964497165,
     "user": {
      "color": "#1FA15D",
      "displayName": "Vincent Vanhoucke",
      "isAnonymous": false,
      "isMe": true,
      "permissionId": "05076109866853157986",
      "photoUrl": "//lh6.googleusercontent.com/-cCJa7dTDcgQ/AAAAAAAAAAI/AAAAAAAACgw/r2EZ_8oYer4/s50-c-k-no/photo.jpg",
      "sessionId": "2f1ffade4c9f20de",
      "userId": "102167687554210253930"
     },
     "user_tz": 420
    },
    "id": "Mvf09fjugFU_",
    "outputId": "e3a928b4-1645-4fe8-be17-fcf47de5716d"
   },
   "outputs": [
    {
     "name": "stdout",
     "output_type": "stream",
     "text": [
      "Data size 17005207\n"
     ]
    }
   ],
   "source": [
    "def read_data(filename):\n",
    "  \"\"\"Extract the first file enclosed in a zip file as a list of words\"\"\"\n",
    "  with zipfile.ZipFile(filename) as f:\n",
    "    data = tf.compat.as_str(f.read(f.namelist()[0])).split()\n",
    "  return data\n",
    "  \n",
    "words = read_data(filename)\n",
    "print('Data size %d' % len(words))"
   ]
  },
  {
   "cell_type": "markdown",
   "metadata": {
    "colab_type": "text",
    "id": "Zdw6i4F8glpp"
   },
   "source": [
    "Build the dictionary and replace rare words with UNK token."
   ]
  },
  {
   "cell_type": "code",
   "execution_count": 7,
   "metadata": {
    "cellView": "both",
    "colab": {
     "autoexec": {
      "startup": false,
      "wait_interval": 0
     },
     "output_extras": [
      {
       "item_id": 1
      }
     ]
    },
    "colab_type": "code",
    "executionInfo": {
     "elapsed": 28849,
     "status": "ok",
     "timestamp": 1445964497178,
     "user": {
      "color": "#1FA15D",
      "displayName": "Vincent Vanhoucke",
      "isAnonymous": false,
      "isMe": true,
      "permissionId": "05076109866853157986",
      "photoUrl": "//lh6.googleusercontent.com/-cCJa7dTDcgQ/AAAAAAAAAAI/AAAAAAAACgw/r2EZ_8oYer4/s50-c-k-no/photo.jpg",
      "sessionId": "2f1ffade4c9f20de",
      "userId": "102167687554210253930"
     },
     "user_tz": 420
    },
    "id": "gAL1EECXeZsD",
    "outputId": "3fb4ecd1-df67-44b6-a2dc-2291730970b2"
   },
   "outputs": [
    {
     "name": "stdout",
     "output_type": "stream",
     "text": [
      "Most common words (+UNK) [['UNK', 418391], ('the', 1061396), ('of', 593677), ('and', 416629), ('one', 411764)]\n",
      "Sample data [5239, 3084, 12, 6, 195, 2, 3135, 46, 59, 156]\n"
     ]
    }
   ],
   "source": [
    "vocabulary_size = 50000\n",
    "\n",
    "def build_dataset(words):\n",
    "  count = [['UNK', -1]]\n",
    "  count.extend(collections.Counter(words).most_common(vocabulary_size - 1))\n",
    "  dictionary = dict()\n",
    "  for word, _ in count:\n",
    "    dictionary[word] = len(dictionary)\n",
    "  data = list()\n",
    "  unk_count = 0\n",
    "  for word in words:\n",
    "    if word in dictionary:\n",
    "      index = dictionary[word]\n",
    "    else:\n",
    "      index = 0  # dictionary['UNK']\n",
    "      unk_count = unk_count + 1\n",
    "    data.append(index)\n",
    "  count[0][1] = unk_count\n",
    "  reverse_dictionary = dict(zip(dictionary.values(), dictionary.keys())) \n",
    "  return data, count, dictionary, reverse_dictionary\n",
    "\n",
    "data, count, dictionary, reverse_dictionary = build_dataset(words)\n",
    "print('Most common words (+UNK)', count[:5])\n",
    "print('Sample data', data[:10])\n",
    "del words  # Hint to reduce memory."
   ]
  },
  {
   "cell_type": "markdown",
   "metadata": {
    "colab_type": "text",
    "id": "lFwoyygOmWsL"
   },
   "source": [
    "Function generate a training batch for the skip-gram model."
   ]
  },
  {
   "cell_type": "code",
   "execution_count": 41,
   "metadata": {
    "cellView": "both",
    "colab": {
     "autoexec": {
      "startup": false,
      "wait_interval": 0
     },
     "output_extras": [
      {
       "item_id": 1
      }
     ]
    },
    "colab_type": "code",
    "executionInfo": {
     "elapsed": 113,
     "status": "ok",
     "timestamp": 1445964901989,
     "user": {
      "color": "#1FA15D",
      "displayName": "Vincent Vanhoucke",
      "isAnonymous": false,
      "isMe": true,
      "permissionId": "05076109866853157986",
      "photoUrl": "//lh6.googleusercontent.com/-cCJa7dTDcgQ/AAAAAAAAAAI/AAAAAAAACgw/r2EZ_8oYer4/s50-c-k-no/photo.jpg",
      "sessionId": "2f1ffade4c9f20de",
      "userId": "102167687554210253930"
     },
     "user_tz": 420
    },
    "id": "w9APjA-zmfjV",
    "outputId": "67cccb02-cdaf-4e47-d489-43bcc8d57bb8"
   },
   "outputs": [
    {
     "name": "stdout",
     "output_type": "stream",
     "text": [
      "data: ['anarchism', 'originated', 'as', 'a', 'term', 'of', 'abuse', 'first', 'used', 'against', 'early', 'working', 'class', 'radicals', 'including']\n",
      "\n",
      "with num_skips = 2 and skip_window = 1:\n",
      "    batch: ['originated', 'originated', 'as', 'as', 'a', 'a', 'term', 'term']\n",
      "    labels: ['as', 'anarchism', 'a', 'originated', 'as', 'term', 'of', 'a']\n",
      "[5239, 3084, 12]\n",
      "\n",
      "with num_skips = 1 and skip_window = 4:\n",
      "    batch: ['term', 'of', 'abuse', 'first', 'used', 'against', 'early', 'working']\n",
      "    labels: ['first', 'as', 'first', 'working', 'abuse', 'used', 'working', 'the']\n",
      "[5239, 3084, 12]\n"
     ]
    }
   ],
   "source": [
    "data_index = 0\n",
    "\n",
    "def generate_batch(batch_size, num_skips, skip_window):\n",
    "  global data_index\n",
    "  assert batch_size % num_skips == 0\n",
    "  assert num_skips <= 2 * skip_window\n",
    "  # SOLUTION\n",
    "  context_size = 2 * skip_window\n",
    "  batch = np.ndarray(shape=(batch_size, context_size), dtype=np.int32)\n",
    "  # End Solution\n",
    "  labels = np.ndarray(shape=(batch_size, 1), dtype=np.int32)\n",
    "  span = 2 * skip_window + 1 # [ skip_window target skip_window ]\n",
    "  buffer = collections.deque(maxlen=span)\n",
    "  for _ in range(span):\n",
    "    buffer.append(data[data_index])\n",
    "    data_index = (data_index + 1) % len(data)\n",
    "  for i in range(batch_size // num_skips):\n",
    "    target = skip_window  # target label at the center of the buffer\n",
    "    targets_to_avoid = [ skip_window ]\n",
    "    for j in range(num_skips):\n",
    "      while target in targets_to_avoid:\n",
    "        target = random.randint(0, span - 1)\n",
    "      targets_to_avoid.append(target)\n",
    "      batch[i * num_skips + j] = buffer[skip_window]\n",
    "      labels[i * num_skips + j, 0] = buffer[target]\n",
    "    buffer.append(data[data_index])\n",
    "    data_index = (data_index + 1) % len(data)\n",
    "  return batch, labels\n",
    "\n",
    "print('data:', [reverse_dictionary[di] for di in data[:15]])\n",
    "\n",
    "for num_skips, skip_window in [(2, 1), (1, 4)]:\n",
    "    data_index = 0\n",
    "    batch, labels = generate_batch(batch_size=8, num_skips=num_skips, skip_window=skip_window)\n",
    "    print('\\nwith num_skips = %d and skip_window = %d:' % (num_skips, skip_window))\n",
    "    print('    batch:', [reverse_dictionary[bi] for bi in batch[:,1]])\n",
    "    print('    labels:', [reverse_dictionary[li] for li in labels.reshape(8)])\n",
    "    print(data[:3])"
   ]
  },
  {
   "cell_type": "markdown",
   "metadata": {
    "colab_type": "text",
    "id": "Ofd1MbBuwiva"
   },
   "source": [
    "Train a skip-gram model."
   ]
  },
  {
   "cell_type": "code",
   "execution_count": 42,
   "metadata": {
    "cellView": "both",
    "colab": {
     "autoexec": {
      "startup": false,
      "wait_interval": 0
     }
    },
    "colab_type": "code",
    "id": "8pQKsV4Vwlzy"
   },
   "outputs": [
    {
     "name": "stdout",
     "output_type": "stream",
     "text": [
      "Tensor(\"embedding_lookup/Identity:0\", shape=(128, 2, 128), dtype=float32, device=/device:CPU:0)\n",
      "Tensor(\"Mean:0\", shape=(128, 128), dtype=float32, device=/device:CPU:0)\n"
     ]
    }
   ],
   "source": [
    "batch_size = 128\n",
    "embedding_size = 128 # Dimension of the embedding vector.\n",
    "skip_window = 1 # How many words to consider left and right.\n",
    "num_skips = 2 # How many times to reuse an input to generate a label.\n",
    "# We pick a random validation set to sample nearest neighbors. here we limit the\n",
    "# validation samples to the words that have a low numeric ID, which by\n",
    "# construction are also the most frequent. \n",
    "valid_size = 16 # Random set of words to evaluate similarity on.\n",
    "valid_window = 100 # Only pick dev samples in the head of the distribution.\n",
    "valid_examples = np.array(random.sample(range(valid_window), valid_size))\n",
    "num_sampled = 64 # Number of negative examples to sample.\n",
    "context_size = 2 * skip_window\n",
    "\n",
    "graph = tf.Graph()\n",
    "\n",
    "with graph.as_default(), tf.device('/cpu:0'):\n",
    "\n",
    "  # Input data.\n",
    "  train_dataset = tf.placeholder(tf.int32, shape=[batch_size, context_size])\n",
    "  train_labels = tf.placeholder(tf.int32, shape=[batch_size, 1])\n",
    "  valid_dataset = tf.constant(valid_examples, dtype=tf.int32)\n",
    "  \n",
    "  # Variables.\n",
    "  embeddings = tf.Variable(\n",
    "    tf.random_uniform([vocabulary_size, embedding_size], -1.0, 1.0))\n",
    "  softmax_weights = tf.Variable(\n",
    "    tf.truncated_normal([vocabulary_size, embedding_size],\n",
    "                         stddev=1.0 / math.sqrt(embedding_size)))\n",
    "  softmax_biases = tf.Variable(tf.zeros([vocabulary_size]))\n",
    "  # Model.\n",
    "  # Look up embeddings for inputs.\n",
    "  embed = tf.nn.embedding_lookup(embeddings, train_dataset)\n",
    "  print(embed)\n",
    "  # SOLUTION GOES HERE:\n",
    "  # choose axis=1 in order to calculate the mean of each context vector\n",
    "  context = tf.reduce_mean(embed, axis=1) \n",
    "  print(context)\n",
    "  # Compute the softmax loss, using a sample of the negative labels each time.\n",
    "  loss = tf.reduce_mean(\n",
    "    tf.nn.sampled_softmax_loss(weights=softmax_weights, biases=softmax_biases, inputs=context,\n",
    "                               labels=train_labels, num_sampled=num_sampled, num_classes=vocabulary_size))\n",
    "\n",
    "  # Optimizer.\n",
    "  # Note: The optimizer will optimize the softmax_weights AND the embeddings.\n",
    "  # This is because the embeddings are defined as a variable quantity and the\n",
    "  # optimizer's `minimize` method will by default modify all variable quantities \n",
    "  # that contribute to the tensor it is passed.\n",
    "  # See docs on `tf.train.Optimizer.minimize()` for more details.\n",
    "  optimizer = tf.train.AdagradOptimizer(1.0).minimize(loss)\n",
    "  \n",
    "  # Compute the similarity between minibatch examples and all embeddings.\n",
    "  # We use the cosine distance:\n",
    "  norm = tf.sqrt(tf.reduce_sum(tf.square(embeddings), 1, keepdims=True))\n",
    "  normalized_embeddings = embeddings / norm\n",
    "  valid_embeddings = tf.nn.embedding_lookup(\n",
    "    normalized_embeddings, valid_dataset)\n",
    "  similarity = tf.matmul(valid_embeddings, tf.transpose(normalized_embeddings))"
   ]
  },
  {
   "cell_type": "code",
   "execution_count": 46,
   "metadata": {
    "cellView": "both",
    "colab": {
     "autoexec": {
      "startup": false,
      "wait_interval": 0
     },
     "output_extras": [
      {
       "item_id": 23
      },
      {
       "item_id": 48
      },
      {
       "item_id": 61
      }
     ]
    },
    "colab_type": "code",
    "executionInfo": {
     "elapsed": 436189,
     "status": "ok",
     "timestamp": 1445965429787,
     "user": {
      "color": "#1FA15D",
      "displayName": "Vincent Vanhoucke",
      "isAnonymous": false,
      "isMe": true,
      "permissionId": "05076109866853157986",
      "photoUrl": "//lh6.googleusercontent.com/-cCJa7dTDcgQ/AAAAAAAAAAI/AAAAAAAACgw/r2EZ_8oYer4/s50-c-k-no/photo.jpg",
      "sessionId": "2f1ffade4c9f20de",
      "userId": "102167687554210253930"
     },
     "user_tz": 420
    },
    "id": "1bQFGceBxrWW",
    "outputId": "5ebd6d9a-33c6-4bcd-bf6d-252b0b6055e4"
   },
   "outputs": [
    {
     "name": "stdout",
     "output_type": "stream",
     "text": [
      "Initialized\n",
      "Average loss at step 0: 7.989013\n",
      "Nearest to on: plutocracy, amstrad, khoi, compaq, canard, intermediate, gere, poisons,\n",
      "Nearest to five: royalists, charlottenburg, tapes, fractal, bench, unsuccessfully, boreal, metrical,\n",
      "Nearest to which: competing, analysing, maeterlinck, partition, followed, gsm, defendant, camcorder,\n",
      "Nearest to to: dol, chip, saraswati, howland, edgerton, kong, salvadorans, alford,\n",
      "Nearest to into: cumont, balochistan, reuniting, gaba, calico, exmouth, bittersweet, earliest,\n",
      "Nearest to most: specify, bombarded, characterizing, kyrenia, redefined, having, antiderivatives, boost,\n",
      "Nearest to they: wakshul, condemned, confessing, margrethe, blemish, afflicted, reiterated, cucurbitaceae,\n",
      "Nearest to d: aung, contravention, thigh, licensee, proclaiming, lees, floodplain, dee,\n",
      "Nearest to but: euclidean, saigon, schengen, left, salvatore, displacements, darcy, dez,\n",
      "Nearest to if: berkman, op, avail, undertaken, atheistic, rsc, academically, quests,\n",
      "Nearest to after: configure, boac, pup, slant, flashing, torn, stoichiometric, biblical,\n",
      "Nearest to two: immolation, transferring, rtp, tripartite, forerunners, piet, impregnated, avogadro,\n",
      "Nearest to zero: tors, mmo, elevations, regular, endeavor, astronauts, botticelli, loon,\n",
      "Nearest to war: polling, humanoid, ringed, poppies, luminaries, temperament, alternative, nh,\n",
      "Nearest to can: venatici, judgement, consists, sayles, timid, orcas, engages, rainy,\n",
      "Nearest to more: gland, vite, stoneman, postumus, withdrawals, rudolph, uphold, hunger,\n",
      "Average loss at step 2000: 4.362723\n",
      "Average loss at step 4000: 3.911982\n",
      "Average loss at step 6000: 3.818897\n",
      "Average loss at step 8000: 3.731926\n",
      "Average loss at step 10000: 3.675681\n",
      "Nearest to on: when, in, through, at, transmissible, gerrymander, innocent, promotional,\n",
      "Nearest to five: four, three, six, eight, nine, zero, seven, two,\n",
      "Nearest to which: that, this, it, chieftain, twisting, there, also, habitations,\n",
      "Nearest to to: not, dol, ymca, pretender, hexafluoride, for, iff, would,\n",
      "Nearest to into: warship, gaba, from, recently, balochistan, cumont, earliest, afghani,\n",
      "Nearest to most: suites, shiva, yours, use, inaccuracies, original, having, considerable,\n",
      "Nearest to they: not, he, there, confessing, it, romanis, brave, gower,\n",
      "Nearest to d: lees, contravention, hooking, scalability, proclaiming, mattress, dee, pulses,\n",
      "Nearest to but: tribune, palin, and, islander, are, left, should, schala,\n",
      "Nearest to if: zahn, undertaken, macmanus, malevolent, quests, rsc, op, avail,\n",
      "Nearest to after: when, pup, in, guildford, biblical, curtiss, ist, furniture,\n",
      "Nearest to two: four, five, one, three, six, zero, nine, seven,\n",
      "Nearest to zero: five, four, six, eight, seven, nine, three, two,\n",
      "Nearest to war: uprooted, poppies, mourner, polling, cayenne, gru, alternative, temperament,\n",
      "Nearest to can: may, could, will, would, venatici, hannes, steeple, giancana,\n",
      "Nearest to more: pushes, dialectical, bella, wandered, weapons, hypatia, psa, gland,\n",
      "Average loss at step 12000: 3.490668\n",
      "Average loss at step 14000: 3.470106\n",
      "Average loss at step 16000: 3.597840\n",
      "Average loss at step 18000: 3.571954\n",
      "Average loss at step 20000: 3.542219\n",
      "Nearest to on: through, in, bletchley, innocent, nei, within, at, disparagingly,\n",
      "Nearest to five: six, four, eight, seven, three, zero, nine, two,\n",
      "Nearest to which: that, this, also, but, it, there, still, usually,\n",
      "Nearest to to: will, ymca, masque, would, for, nard, may, can,\n",
      "Nearest to into: from, appalachia, recently, through, afghani, optics, warship, certify,\n",
      "Nearest to most: more, suites, some, shiva, yours, use, many, sae,\n",
      "Nearest to they: there, he, it, we, not, you, these, who,\n",
      "Nearest to d: lees, contravention, scalability, prevalent, mattress, stasis, hooking, centrale,\n",
      "Nearest to but: however, which, although, islander, and, that, tribune, or,\n",
      "Nearest to if: when, kale, macmanus, zahn, interpretations, rsc, defeated, malevolent,\n",
      "Nearest to after: before, when, humphreys, curtiss, pup, during, gonads, amalthea,\n",
      "Nearest to two: three, four, six, one, five, seven, zero, eight,\n",
      "Nearest to zero: eight, five, four, six, seven, nine, two, three,\n",
      "Nearest to war: uprooted, mourner, poppies, charley, gru, screams, polling, hostage,\n",
      "Nearest to can: may, will, could, would, should, hannes, must, cannot,\n",
      "Nearest to more: most, less, dialectical, misandry, rather, very, bella, oblivious,\n",
      "Average loss at step 22000: 3.529276\n",
      "Average loss at step 24000: 3.499553\n",
      "Average loss at step 26000: 3.461974\n",
      "Average loss at step 28000: 3.483612\n",
      "Average loss at step 30000: 3.501155\n",
      "Nearest to on: at, through, in, when, repayment, transmissible, genital, during,\n",
      "Nearest to five: six, seven, four, eight, three, nine, zero, two,\n",
      "Nearest to which: that, this, also, involved, what, there, but, usually,\n",
      "Nearest to to: must, nard, will, octagon, phospholipids, would, pretender, immaturity,\n",
      "Nearest to into: from, through, across, configuration, afghani, appalachia, wright, earliest,\n",
      "Nearest to most: more, some, suites, yours, many, gravestone, irreplaceable, shiva,\n",
      "Nearest to they: he, we, there, it, you, who, these, not,\n",
      "Nearest to d: stasis, centrale, scalability, lees, r, contravention, iana, pauling,\n",
      "Nearest to but: although, however, and, or, which, palin, while, carcass,\n",
      "Nearest to if: when, kale, culminates, whether, though, macmanus, where, since,\n",
      "Nearest to after: before, when, during, humphreys, gonads, from, at, ist,\n",
      "Nearest to two: three, four, six, five, one, seven, eight, zero,\n",
      "Nearest to zero: five, six, eight, seven, four, three, nine, two,\n",
      "Nearest to war: campania, uprooted, wars, mourner, girl, charley, poppies, nh,\n",
      "Nearest to can: may, could, would, will, should, must, cannot, hannes,\n",
      "Nearest to more: less, most, very, rather, misandry, carbohydrate, bella, oblivious,\n",
      "Average loss at step 32000: 3.526953\n",
      "Average loss at step 34000: 3.525583\n",
      "Average loss at step 36000: 3.497289\n",
      "Average loss at step 38000: 3.452513\n",
      "Average loss at step 40000: 3.454911\n",
      "Nearest to on: upon, through, at, about, safeguarding, dropping, within, repayment,\n",
      "Nearest to five: eight, seven, three, four, six, nine, two, zero,\n",
      "Nearest to which: that, this, also, still, there, these, but, involved,\n",
      "Nearest to to: would, will, oligarchic, sole, pelagianism, rupiah, hive, might,\n",
      "Nearest to into: from, through, across, configuration, appalachia, wright, afghani, between,\n",
      "Nearest to most: more, many, some, suites, yours, among, staff, irreplaceable,\n",
      "Nearest to they: we, he, there, you, it, she, who, not,\n",
      "Nearest to d: stasis, contravention, r, pauling, scalability, admixtures, inaugural, centrale,\n",
      "Nearest to but: however, although, and, palin, which, seams, they, we,\n",
      "Nearest to if: when, since, where, though, kale, culminates, is, can,\n",
      "Nearest to after: before, during, when, humphreys, while, gonads, electrolytes, through,\n",
      "Nearest to two: three, five, four, six, eight, one, seven, zero,\n",
      "Nearest to zero: eight, five, six, seven, nine, four, three, two,\n",
      "Nearest to war: campania, wars, mourner, soyuz, hostage, poppies, polling, uprooted,\n",
      "Nearest to can: may, could, will, would, should, must, might, cannot,\n",
      "Nearest to more: less, most, very, rather, extremely, misandry, somewhat, flushing,\n",
      "Average loss at step 42000: 3.491277\n",
      "Average loss at step 44000: 3.352665\n",
      "Average loss at step 46000: 3.453736\n",
      "Average loss at step 48000: 3.338260\n",
      "Average loss at step 50000: 3.441842\n",
      "Nearest to on: upon, through, within, at, in, against, about, safeguarding,\n",
      "Nearest to five: seven, six, eight, four, zero, three, nine, two,\n",
      "Nearest to which: this, that, what, these, it, but, still, strongly,\n",
      "Nearest to to: could, will, would, can, must, might, may, should,\n",
      "Nearest to into: through, from, across, appalachia, optics, in, certify, afghani,\n",
      "Nearest to most: more, suites, among, use, yours, some, less, many,\n",
      "Nearest to they: we, there, he, you, it, she, not, these,\n",
      "Nearest to d: b, r, michael, williams, neva, xxvii, stasis, townsend,\n",
      "Nearest to but: however, although, and, palin, which, delano, while, though,\n",
      "Nearest to if: when, where, since, though, culminates, hamad, while, although,\n",
      "Nearest to after: before, when, during, humphreys, while, through, without, gonads,\n",
      "Nearest to two: three, five, four, six, one, seven, eight, zero,\n",
      "Nearest to zero: five, six, seven, four, eight, nine, two, three,\n",
      "Nearest to war: wars, campania, mourner, soyuz, poppies, gru, ringed, hostage,\n",
      "Nearest to can: may, could, will, would, should, must, might, cannot,\n",
      "Nearest to more: less, most, very, rather, extremely, misandry, somewhat, kurds,\n"
     ]
    },
    {
     "name": "stdout",
     "output_type": "stream",
     "text": [
      "Average loss at step 52000: 3.419880\n",
      "Average loss at step 54000: 3.395103\n",
      "Average loss at step 56000: 3.423190\n",
      "Average loss at step 58000: 3.417137\n",
      "Average loss at step 60000: 3.304879\n",
      "Nearest to on: in, through, within, upon, during, against, dixit, golda,\n",
      "Nearest to five: four, seven, eight, six, three, nine, zero, two,\n",
      "Nearest to which: that, this, these, also, it, however, what, who,\n",
      "Nearest to to: will, would, oligarchic, nanometer, and, in, weidenfeld, against,\n",
      "Nearest to into: through, from, across, appalachia, between, with, wright, within,\n",
      "Nearest to most: many, more, some, among, use, disguises, suites, various,\n",
      "Nearest to they: we, there, you, he, it, she, these, i,\n",
      "Nearest to d: b, r, whistling, michael, starry, contravention, williams, neoplatonic,\n",
      "Nearest to but: however, although, and, though, endogamous, which, since, until,\n",
      "Nearest to if: when, where, though, before, culminates, then, eileen, although,\n",
      "Nearest to after: before, during, when, while, without, in, through, since,\n",
      "Nearest to two: three, one, four, five, six, seven, zero, eight,\n",
      "Nearest to zero: five, eight, four, seven, six, three, nine, two,\n",
      "Nearest to war: wars, campania, capita, ringed, soyuz, mourner, gru, polling,\n",
      "Nearest to can: could, would, may, will, should, must, cannot, might,\n",
      "Nearest to more: less, very, rather, most, somewhat, higher, misandry, extremely,\n",
      "Average loss at step 62000: 3.334026\n",
      "Average loss at step 64000: 3.384144\n",
      "Average loss at step 66000: 3.381869\n",
      "Average loss at step 68000: 3.388421\n",
      "Average loss at step 70000: 3.377442\n",
      "Nearest to on: upon, through, in, repayment, mains, towards, ismail, within,\n",
      "Nearest to five: eight, six, seven, four, nine, zero, three, two,\n",
      "Nearest to which: that, this, what, also, who, however, filkers, it,\n",
      "Nearest to to: would, will, must, for, should, might, salvadorans, in,\n",
      "Nearest to into: through, from, across, appalachia, between, within, subverted, after,\n",
      "Nearest to most: more, some, many, among, use, suites, very, alif,\n",
      "Nearest to they: we, he, there, you, she, it, who, these,\n",
      "Nearest to d: b, r, c, michael, stasis, f, ursinus, centrale,\n",
      "Nearest to but: however, although, and, though, while, which, braintree, it,\n",
      "Nearest to if: when, since, culminates, where, before, although, though, while,\n",
      "Nearest to after: before, during, when, through, without, while, since, at,\n",
      "Nearest to two: three, four, six, one, five, seven, eight, zero,\n",
      "Nearest to zero: five, eight, seven, six, four, nine, three, two,\n",
      "Nearest to war: wars, campania, capita, soyuz, parliament, ringed, polling, ales,\n",
      "Nearest to can: may, would, could, will, should, must, cannot, might,\n",
      "Nearest to more: less, very, most, misandry, rather, somewhat, highly, too,\n",
      "Average loss at step 72000: 3.377072\n",
      "Average loss at step 74000: 3.302546\n",
      "Average loss at step 76000: 3.269055\n",
      "Average loss at step 78000: 3.343992\n",
      "Average loss at step 80000: 3.266509\n",
      "Nearest to on: upon, within, through, in, at, suckling, ismail, repayment,\n",
      "Nearest to five: six, eight, seven, four, nine, three, zero, two,\n",
      "Nearest to which: that, this, what, also, actually, often, usually, who,\n",
      "Nearest to to: will, would, must, firmus, pelagianism, could, oxidase, should,\n",
      "Nearest to into: through, across, from, within, appalachia, between, in, under,\n",
      "Nearest to most: more, many, some, less, among, yours, several, xb,\n",
      "Nearest to they: we, he, you, there, she, it, these, not,\n",
      "Nearest to d: b, michael, and, centrale, ursinus, williams, merchandising, inc,\n",
      "Nearest to but: however, although, though, and, which, delano, gesserit, are,\n",
      "Nearest to if: when, where, though, since, before, culminates, although, whether,\n",
      "Nearest to after: before, during, when, through, without, since, electrolytes, despite,\n",
      "Nearest to two: three, four, six, five, seven, eight, nine, one,\n",
      "Nearest to zero: five, six, four, nine, seven, eight, three, two,\n",
      "Nearest to war: wars, campania, ales, foreseeable, ganglion, unhealthy, sancho, soyuz,\n",
      "Nearest to can: may, could, will, would, cannot, should, must, might,\n",
      "Nearest to more: less, most, very, rather, larger, misandry, higher, longer,\n",
      "Average loss at step 82000: 3.301071\n",
      "Average loss at step 84000: 3.333281\n",
      "Average loss at step 86000: 3.243026\n",
      "Average loss at step 88000: 3.384763\n",
      "Average loss at step 90000: 3.352536\n",
      "Nearest to on: upon, within, through, at, in, during, bletchley, behind,\n",
      "Nearest to five: six, four, eight, zero, seven, nine, two, three,\n",
      "Nearest to which: that, this, but, also, usually, these, what, however,\n",
      "Nearest to to: would, must, nanometer, will, gastrointestinal, beretta, salvadorans, weidenfeld,\n",
      "Nearest to into: through, across, from, within, appalachia, between, subverted, niki,\n",
      "Nearest to most: more, many, less, among, yours, some, particularly, especially,\n",
      "Nearest to they: we, he, there, you, it, she, who, not,\n",
      "Nearest to d: b, stasis, severly, sanitarium, c, varphi, licensees, floodplain,\n",
      "Nearest to but: however, although, and, which, though, where, while, he,\n",
      "Nearest to if: when, though, before, then, since, where, after, culminates,\n",
      "Nearest to after: before, during, when, without, if, final, following, while,\n",
      "Nearest to two: five, three, four, six, seven, zero, eight, one,\n",
      "Nearest to zero: five, six, four, eight, two, nine, seven, three,\n",
      "Nearest to war: wars, foreseeable, soyuz, campania, parliament, polling, constellation, capita,\n",
      "Nearest to can: may, will, could, would, must, cannot, should, might,\n",
      "Nearest to more: less, most, very, rather, highly, misandry, longer, extremely,\n",
      "Average loss at step 92000: 3.319646\n",
      "Average loss at step 94000: 3.170119\n",
      "Average loss at step 96000: 3.313759\n",
      "Average loss at step 98000: 3.348108\n",
      "Average loss at step 100000: 3.347923\n",
      "Nearest to on: upon, through, within, in, during, at, around, freddie,\n",
      "Nearest to five: four, six, seven, three, eight, two, nine, zero,\n",
      "Nearest to which: this, that, what, also, actually, however, where, who,\n",
      "Nearest to to: would, will, might, must, could, firmus, mlb, ymca,\n",
      "Nearest to into: through, from, within, across, appalachia, afghani, disparagingly, onto,\n",
      "Nearest to most: more, less, among, some, many, both, yours, several,\n",
      "Nearest to they: we, there, he, you, she, it, i, these,\n",
      "Nearest to d: b, stasis, f, nighttime, te, l, varphi, c,\n",
      "Nearest to but: however, although, and, though, does, actually, that, sloop,\n",
      "Nearest to if: when, where, since, before, though, then, culminates, why,\n",
      "Nearest to after: before, during, when, without, for, through, later, final,\n",
      "Nearest to two: five, three, four, six, seven, one, eight, zero,\n",
      "Nearest to zero: seven, eight, four, five, six, nine, three, two,\n",
      "Nearest to war: wars, foreseeable, soyuz, campania, parliament, abkhazia, ales, constellation,\n",
      "Nearest to can: could, will, may, would, must, might, cannot, should,\n",
      "Nearest to more: less, very, most, rather, longer, misandry, smaller, highly,\n",
      "Average loss at step 102000: 3.372764\n",
      "Average loss at step 104000: 3.353341\n",
      "Average loss at step 106000: 3.332077\n",
      "Average loss at step 108000: 3.198174\n",
      "Average loss at step 110000: 3.314085\n",
      "Nearest to on: upon, in, within, through, regarding, under, during, about,\n",
      "Nearest to five: six, eight, four, seven, three, nine, two, zero,\n",
      "Nearest to which: that, this, also, who, what, but, these, it,\n",
      "Nearest to to: firmus, could, should, would, nard, ymca, towards, might,\n",
      "Nearest to into: through, across, within, from, under, onto, dalits, back,\n",
      "Nearest to most: more, less, some, among, both, many, particularly, several,\n",
      "Nearest to they: we, he, there, you, she, it, i, these,\n",
      "Nearest to d: b, stasis, l, nighttime, de, centrale, te, reporters,\n",
      "Nearest to but: however, although, though, and, which, while, until, seams,\n",
      "Nearest to if: when, before, though, since, where, although, why, could,\n",
      "Nearest to after: before, during, when, despite, since, without, though, while,\n",
      "Nearest to two: three, four, five, eight, seven, six, one, nine,\n",
      "Nearest to zero: five, seven, six, eight, nine, four, three, two,\n",
      "Nearest to war: wars, soyuz, foreseeable, parliament, constellation, campania, ales, linkin,\n",
      "Nearest to can: could, may, will, would, should, cannot, must, might,\n",
      "Nearest to more: less, most, very, rather, highly, misandry, longer, extremely,\n",
      "Average loss at step 112000: 3.362306\n"
     ]
    },
    {
     "name": "stdout",
     "output_type": "stream",
     "text": [
      "Average loss at step 114000: 3.294989\n",
      "Average loss at step 116000: 3.283982\n",
      "Average loss at step 118000: 3.315211\n",
      "Average loss at step 120000: 3.305501\n",
      "Nearest to on: upon, in, through, within, at, near, during, freddie,\n",
      "Nearest to five: four, eight, six, seven, nine, three, zero, two,\n",
      "Nearest to which: this, also, that, what, itself, who, belknap, actually,\n",
      "Nearest to to: would, should, must, gastrointestinal, towards, will, might, nanometer,\n",
      "Nearest to into: through, across, from, within, back, appalachia, onto, dalits,\n",
      "Nearest to most: more, many, less, some, several, especially, particularly, both,\n",
      "Nearest to they: we, he, there, she, you, it, i, who,\n",
      "Nearest to d: b, nighttime, stasis, te, reporters, col, merchandising, dermal,\n",
      "Nearest to but: however, although, though, and, while, despite, that, authorizes,\n",
      "Nearest to if: when, though, before, where, since, whether, although, why,\n",
      "Nearest to after: before, during, when, while, despite, following, without, for,\n",
      "Nearest to two: three, eight, four, six, five, seven, one, nine,\n",
      "Nearest to zero: five, seven, four, eight, six, nine, three, two,\n",
      "Nearest to war: wars, foreseeable, soyuz, campania, ales, wedded, battle, cli,\n",
      "Nearest to can: will, could, must, should, would, may, cannot, might,\n",
      "Nearest to more: less, very, most, highly, rather, smaller, misandry, increasingly,\n",
      "Average loss at step 122000: 3.342467\n",
      "Average loss at step 124000: 3.327027\n",
      "Average loss at step 126000: 3.287169\n",
      "Average loss at step 128000: 3.176109\n",
      "Average loss at step 130000: 3.317236\n",
      "Nearest to on: upon, through, within, in, at, freddie, regarding, safeguarding,\n",
      "Nearest to five: four, seven, six, eight, three, zero, nine, two,\n",
      "Nearest to which: this, that, also, actually, who, typically, instead, what,\n",
      "Nearest to to: can, will, must, might, should, would, firmus, lippincott,\n",
      "Nearest to into: through, across, within, from, back, appalachia, onto, down,\n",
      "Nearest to most: more, some, many, both, less, especially, particularly, among,\n",
      "Nearest to they: we, he, there, you, she, it, who, these,\n",
      "Nearest to d: b, col, ursinus, centrale, reporters, merchandising, coru, stasis,\n",
      "Nearest to but: however, although, though, and, see, while, which, when,\n",
      "Nearest to if: when, before, though, where, is, since, curries, then,\n",
      "Nearest to after: before, during, when, without, while, despite, though, if,\n",
      "Nearest to two: three, five, one, four, eight, six, seven, zero,\n",
      "Nearest to zero: five, seven, six, four, eight, nine, three, two,\n",
      "Nearest to war: wars, foreseeable, wedded, battle, campania, soyuz, cli, valentine,\n",
      "Nearest to can: will, must, may, could, would, should, cannot, might,\n",
      "Nearest to more: less, most, very, rather, greater, larger, highly, smaller,\n",
      "Average loss at step 132000: 3.239646\n",
      "Average loss at step 134000: 3.284763\n",
      "Average loss at step 136000: 3.287733\n",
      "Average loss at step 138000: 3.263814\n",
      "Average loss at step 140000: 3.185649\n",
      "Nearest to on: upon, in, through, within, regarding, weekly, freddie, about,\n",
      "Nearest to five: four, seven, six, three, eight, nine, zero, two,\n",
      "Nearest to which: this, that, also, who, what, often, actually, usually,\n",
      "Nearest to to: firmus, would, octagon, will, mlb, inaugural, onstage, towards,\n",
      "Nearest to into: through, across, within, from, onto, towards, under, around,\n",
      "Nearest to most: more, many, some, less, especially, both, among, pomona,\n",
      "Nearest to they: we, he, you, there, she, it, i, etc,\n",
      "Nearest to d: b, kenneth, chadic, te, c, centrale, ursinus, admixtures,\n",
      "Nearest to but: however, though, although, and, while, choral, himalayan, or,\n",
      "Nearest to if: when, though, before, where, why, since, because, while,\n",
      "Nearest to after: before, during, when, following, while, despite, without, until,\n",
      "Nearest to two: three, four, five, six, seven, one, eight, zero,\n",
      "Nearest to zero: five, seven, six, four, eight, nine, three, two,\n",
      "Nearest to war: wars, foreseeable, visceral, cli, campania, protectorate, poppies, battle,\n",
      "Nearest to can: could, must, cannot, should, might, will, would, may,\n",
      "Nearest to more: less, very, most, rather, misandry, quite, greater, highly,\n",
      "Average loss at step 142000: 2.675144\n",
      "Average loss at step 144000: 3.064243\n",
      "Average loss at step 146000: 3.020374\n",
      "Average loss at step 148000: 3.175156\n",
      "Average loss at step 150000: 3.233552\n",
      "Nearest to on: upon, in, through, mains, about, regarding, within, weekly,\n",
      "Nearest to five: four, seven, six, eight, three, nine, zero, two,\n",
      "Nearest to which: that, this, what, who, also, both, these, typically,\n",
      "Nearest to to: must, would, will, might, firmus, mlb, papias, could,\n",
      "Nearest to into: through, across, within, onto, down, under, from, toward,\n",
      "Nearest to most: more, some, many, less, especially, particularly, pomona, both,\n",
      "Nearest to they: we, he, you, she, there, i, it, these,\n",
      "Nearest to d: b, reconstructionism, merchandising, licensee, whistling, homeomorphism, admixtures, innkeeper,\n",
      "Nearest to but: however, although, though, and, while, until, he, nor,\n",
      "Nearest to if: when, though, before, while, did, why, could, must,\n",
      "Nearest to after: before, during, while, without, despite, when, following, for,\n",
      "Nearest to two: three, four, five, six, seven, eight, one, zero,\n",
      "Nearest to zero: five, eight, six, four, seven, nine, three, two,\n",
      "Nearest to war: wars, foreseeable, battle, valentine, protectorate, linkin, poppies, cli,\n",
      "Nearest to can: could, must, cannot, might, should, will, would, may,\n",
      "Nearest to more: less, most, very, rather, quite, highly, increasingly, extremely,\n"
     ]
    }
   ],
   "source": [
    "num_steps = 150001\n",
    "\n",
    "with tf.Session(graph=graph) as session:\n",
    "  tf.global_variables_initializer().run()\n",
    "  print('Initialized')\n",
    "  average_loss = 0\n",
    "  for step in range(num_steps):\n",
    "    batch_data, batch_labels = generate_batch(\n",
    "      batch_size, num_skips, skip_window)\n",
    "    feed_dict = {train_dataset : batch_data, train_labels : batch_labels}\n",
    "    _, l = session.run([optimizer, loss], feed_dict=feed_dict)\n",
    "    average_loss += l\n",
    "    if step % 2000 == 0:\n",
    "      if step > 0:\n",
    "        average_loss = average_loss / 2000\n",
    "      # The average loss is an estimate of the loss over the last 2000 batches.\n",
    "      print('Average loss at step %d: %f' % (step, average_loss))\n",
    "      average_loss = 0\n",
    "    # note that this is expensive (~20% slowdown if computed every 500 steps)\n",
    "    if step % 10000 == 0:\n",
    "      sim = similarity.eval()\n",
    "      for i in range(valid_size):\n",
    "        valid_word = reverse_dictionary[valid_examples[i]]\n",
    "        top_k = 8 # number of nearest neighbors\n",
    "        nearest = (-sim[i, :]).argsort()[1:top_k+1]\n",
    "        log = 'Nearest to %s:' % valid_word\n",
    "        for k in range(top_k):\n",
    "          close_word = reverse_dictionary[nearest[k]]\n",
    "          log = '%s %s,' % (log, close_word)\n",
    "        print(log)\n",
    "  final_embeddings = normalized_embeddings.eval()"
   ]
  },
  {
   "cell_type": "code",
   "execution_count": 47,
   "metadata": {
    "cellView": "both",
    "colab": {
     "autoexec": {
      "startup": false,
      "wait_interval": 0
     }
    },
    "colab_type": "code",
    "id": "jjJXYA_XzV79"
   },
   "outputs": [],
   "source": [
    "num_points = 200\n",
    "\n",
    "tsne = TSNE(perplexity=30, n_components=2, init='pca', n_iter=5000, method='exact')\n",
    "two_d_embeddings = tsne.fit_transform(final_embeddings[1:num_points+1, :])"
   ]
  },
  {
   "cell_type": "code",
   "execution_count": 48,
   "metadata": {
    "cellView": "both",
    "colab": {
     "autoexec": {
      "startup": false,
      "wait_interval": 0
     },
     "output_extras": [
      {
       "item_id": 1
      }
     ]
    },
    "colab_type": "code",
    "executionInfo": {
     "elapsed": 4763,
     "status": "ok",
     "timestamp": 1445965465525,
     "user": {
      "color": "#1FA15D",
      "displayName": "Vincent Vanhoucke",
      "isAnonymous": false,
      "isMe": true,
      "permissionId": "05076109866853157986",
      "photoUrl": "//lh6.googleusercontent.com/-cCJa7dTDcgQ/AAAAAAAAAAI/AAAAAAAACgw/r2EZ_8oYer4/s50-c-k-no/photo.jpg",
      "sessionId": "2f1ffade4c9f20de",
      "userId": "102167687554210253930"
     },
     "user_tz": 420
    },
    "id": "o_e0D_UezcDe",
    "outputId": "df22e4a5-e8ec-4e5e-d384-c6cf37c68c34"
   },
   "outputs": [
    {
     "data": {
      "image/png": "[encoded data removed]",
      "text/plain": [
       "<Figure size 1080x1080 with 1 Axes>"
      ]
     },
     "metadata": {
      "needs_background": "light"
     },
     "output_type": "display_data"
    }
   ],
   "source": [
    "def plot(embeddings, labels):\n",
    "  assert embeddings.shape[0] >= len(labels), 'More labels than embeddings'\n",
    "  pylab.figure(figsize=(15,15))  # in inches\n",
    "  for i, label in enumerate(labels):\n",
    "    x, y = embeddings[i,:]\n",
    "    pylab.scatter(x, y)\n",
    "    pylab.annotate(label, xy=(x, y), xytext=(5, 2), textcoords='offset points',\n",
    "                   ha='right', va='bottom')\n",
    "  pylab.show()\n",
    "\n",
    "words = [reverse_dictionary[i] for i in range(1, num_points+1)]\n",
    "plot(two_d_embeddings, words)"
   ]
  },
  {
   "cell_type": "markdown",
   "metadata": {
    "colab_type": "text",
    "id": "QB5EFrBnpNnc"
   },
   "source": [
    "---\n",
    "\n",
    "Problem\n",
    "-------\n",
    "\n",
    "An alternative to skip-gram is another Word2Vec model called [CBOW](http://arxiv.org/abs/1301.3781) (Continuous Bag of Words). In the CBOW model, instead of predicting a context word from a word vector, you predict a word from the sum of all the word vectors in its context. Implement and evaluate a CBOW model trained on the text8 dataset.\n",
    "\n",
    "---"
   ]
  }
 ],
 "metadata": {
  "colab": {
   "default_view": {},
   "name": "5_word2vec.ipynb",
   "provenance": [],
   "version": "0.3.2",
   "views": {}
  },
  "kernelspec": {
   "display_name": "Python 3",
   "language": "python",
   "name": "python3"
  },
  "language_info": {
   "codemirror_mode": {
    "name": "ipython",
    "version": 3
   },
   "file_extension": ".py",
   "mimetype": "text/x-python",
   "name": "python",
   "nbconvert_exporter": "python",
   "pygments_lexer": "ipython3",
   "version": "3.5.2"
  }
 },
 "nbformat": 4,
 "nbformat_minor": 1
}
